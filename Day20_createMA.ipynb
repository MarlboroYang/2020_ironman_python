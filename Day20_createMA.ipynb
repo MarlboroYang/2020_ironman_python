{
 "metadata": {
  "language_info": {
   "codemirror_mode": {
    "name": "ipython",
    "version": 3
   },
   "file_extension": ".py",
   "mimetype": "text/x-python",
   "name": "python",
   "nbconvert_exporter": "python",
   "pygments_lexer": "ipython3",
   "version": "3.8.5-final"
  },
  "orig_nbformat": 2,
  "kernelspec": {
   "name": "Python 3.8.5 64-bit ('12-ithome': pipenv)",
   "display_name": "Python 3.8.5 64-bit ('12-ithome': pipenv)",
   "metadata": {
    "interpreter": {
     "hash": "618d175374b168a2061b39122041a0acf7c5e8715e7f3d4a912924209bafdfc6"
    }
   }
  }
 },
 "nbformat": 4,
 "nbformat_minor": 2,
 "cells": [
  {
   "cell_type": "code",
   "execution_count": null,
   "metadata": {
    "tags": []
   },
   "outputs": [],
   "source": [
    "import pandas\n",
    "import pyodbc\n",
    "import matplotlib.pyplot as plt"
   ]
  },
  {
   "cell_type": "code",
   "execution_count": null,
   "metadata": {
    "tags": []
   },
   "outputs": [],
   "source": [
    "server = \"ey-finance.database.windows.net\"\n",
    "database = \"finance\"\n",
    "username = \"我的帳號\"\n",
    "password = \"我的密碼\"\n",
    "driver = \"{ODBC Driver 17 for SQL Server}\"\n",
    "\n",
    "conn = pyodbc.connect(f\"DRIVER={driver};SERVER={server};PORT=1433;DATABASE={database};UID={username};PWD={password}\")\n",
    "symbol = \"2330\"\n",
    "cursor= conn.cursor()\n",
    "\n",
    "query = f\"SELECT TradeDate, ClosePrice FROM [dbo].[DailyPrice] WHERE Symbol ='{symbol}' ORDER BY TradeDate;\"\n",
    "df = pandas.read_sql(query, conn, index_col=\"TradeDate\")\n",
    "print(df.head(10)) #印出來看看"
   ]
  },
  {
   "cell_type": "code",
   "execution_count": null,
   "metadata": {},
   "outputs": [],
   "source": [
    "pic = df[\"ClosePrice\"]\n",
    "pic.plot()\n",
    "df.plot()   # 效果一樣"
   ]
  },
  {
   "cell_type": "code",
   "execution_count": null,
   "metadata": {},
   "outputs": [],
   "source": [
    "# 近20日收盤\n",
    "c_price_20 = pic.rolling(20, min_periods=1).mean()\n",
    "c_price_20_2 = df.rolling(20, min_periods=1).mean()"
   ]
  },
  {
   "source": [
    "# 印出20日均線\n",
    "c_price_20.plot()   # 圓滑的均線\n",
    "df.plot()   # 鋸齒狀的線條"
   ],
   "cell_type": "code",
   "metadata": {},
   "execution_count": null,
   "outputs": []
  },
  {
   "cell_type": "code",
   "execution_count": null,
   "metadata": {},
   "outputs": [],
   "source": []
  }
 ]
}