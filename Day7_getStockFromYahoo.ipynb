{
 "metadata": {
  "language_info": {
   "codemirror_mode": {
    "name": "ipython",
    "version": 3
   },
   "file_extension": ".py",
   "mimetype": "text/x-python",
   "name": "python",
   "nbconvert_exporter": "python",
   "pygments_lexer": "ipython3",
   "version": "3.8.5-final"
  },
  "orig_nbformat": 2,
  "kernelspec": {
   "name": "python_defaultSpec_1600181150224",
   "display_name": "Python 3.8.5 64-bit ('12-ithome': pipenv)"
  }
 },
 "nbformat": 4,
 "nbformat_minor": 2,
 "cells": [
  {
   "cell_type": "code",
   "execution_count": 1,
   "metadata": {
    "tags": []
   },
   "outputs": [
    {
     "output_type": "stream",
     "name": "stdout",
     "text": "Hello world! Python & Jupyter\nBy Eyelash\n"
    }
   ],
   "source": [
    "print(\"Hello world! Python & Jupyter\")\n",
    "print(\"By Eyelash\")"
   ]
  },
  {
   "cell_type": "code",
   "execution_count": null,
   "metadata": {},
   "outputs": [],
   "source": [
    "import requests\n",
    "import json\n",
    "import numpy\n",
    "import pandas"
   ]
  },
  {
   "cell_type": "code",
   "execution_count": null,
   "metadata": {},
   "outputs": [],
   "source": [
    "# API位置\n",
    "start_time = 1596211200\n",
    "end_time = 1599926400\n",
    "address = f\"https://query1.finance.yahoo.com/v8/finance/chart/2317.TW?period1={start_time}&period2={end_time}&interval=1d&events=history&=hP2rOschxO0\""
   ]
  },
  {
   "cell_type": "code",
   "execution_count": null,
   "metadata": {},
   "outputs": [],
   "source": [
    "# 使用requests 來跟遠端 API server 索取資料\n",
    "response = requests.get(address)\n",
    "\n",
    "# 序列化資料回報\n",
    "data = json.loads(response.text)\n",
    "\n",
    "# 把json格式資料放入pandas中\n",
    "df = pandas.DataFrame(\n",
    "    data[\"chart\"][\"result\"][0][\"indicators\"][\"quote\"][0],\n",
    "    index=pandas.to_datetime(\n",
    "        numpy.array(data[\"chart\"][\"result\"][0][\"timestamp\"]) * 1000 * 1000 * 1000\n",
    "    ),\n",
    ")"
   ]
  },
  {
   "cell_type": "code",
   "execution_count": null,
   "metadata": {
    "tags": []
   },
   "outputs": [],
   "source": [
    "# 印出前3行\n",
    "print(df[:3])"
   ]
  },
  {
   "cell_type": "code",
   "execution_count": null,
   "metadata": {
    "tags": []
   },
   "outputs": [],
   "source": [
    "# 印出前5行\n",
    "print(df.head())"
   ]
  },
  {
   "cell_type": "code",
   "execution_count": null,
   "metadata": {},
   "outputs": [],
   "source": [
    "# 印出圖表\n",
    "df.close.plot()"
   ]
  }
 ]
}